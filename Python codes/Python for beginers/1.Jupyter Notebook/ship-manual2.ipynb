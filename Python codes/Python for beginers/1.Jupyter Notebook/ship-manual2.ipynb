{
 "cells": [
  {
   "cell_type": "markdown",
   "metadata": {},
   "source": [
    "# Ship's Instruction Manual"
   ]
  },
  {
   "cell_type": "code",
   "execution_count": 1,
   "metadata": {},
   "outputs": [
    {
     "data": {
      "application/vnd.jupyter.widget-view+json": {
       "model_id": "e8419abdf27a4428b337956ec10ac7a3",
       "version_major": 2,
       "version_minor": 0
      },
      "text/plain": [
       "ToggleButton(value=False, button_style='success', description='Start Engine', icon='rocket', tooltip='Engage y…"
      ]
     },
     "metadata": {},
     "output_type": "display_data"
    },
    {
     "data": {
      "application/vnd.jupyter.widget-view+json": {
       "model_id": "eb14b904b27142e58a6c8a2b651a9af9",
       "version_major": 2,
       "version_minor": 0
      },
      "text/plain": [
       "Output()"
      ]
     },
     "metadata": {},
     "output_type": "display_data"
    }
   ],
   "source": [
    "import ipywidgets as widgets\n",
    "\n",
    "ignition = widgets.ToggleButton(\n",
    "    value=False,\n",
    "    description='Start Engine',\n",
    "    button_style='success',\n",
    "    tooltip='Engage your Engine',\n",
    "    icon='rocket'\n",
    ")\n",
    "\n",
    "output = widgets.Output()\n",
    "\n",
    "display(ignition, output)\n",
    "\n",
    "\n",
    "def on_value_change(change):\n",
    "    with output:\n",
    "        if change['new'] == True:\n",
    "            print(\"engine started!\")\n",
    "        else:\n",
    "            print(\"engine stopped\")\n",
    "\n",
    "\n",
    "ignition.observe(on_value_change, names='value')\n"
   ]
  },
  {
   "cell_type": "markdown",
   "metadata": {},
   "source": [
    "## Oxygen levels\n",
    "\n",
    "Display ten minutes of oxygen levels in your ship."
   ]
  },
  {
   "cell_type": "code",
   "execution_count": 2,
   "metadata": {},
   "outputs": [
    {
     "ename": "ModuleNotFoundError",
     "evalue": "No module named 'numpy'",
     "output_type": "error",
     "traceback": [
      "\u001b[1;31m---------------------------------------------------------------------------\u001b[0m",
      "\u001b[1;31mModuleNotFoundError\u001b[0m                       Traceback (most recent call last)",
      "\u001b[1;32md:\\My-Code-Footprint\\Python codes\\Python for beginers\\1.Jupyter Notebook\\ship-manual2.ipynb Cell 4\u001b[0m in \u001b[0;36m<cell line: 1>\u001b[1;34m()\u001b[0m\n\u001b[1;32m----> <a href='vscode-notebook-cell:/d%3A/My-Code-Footprint/Python%20codes/Python%20for%20beginers/1.Jupyter%20Notebook/ship-manual2.ipynb#ch0000003?line=0'>1</a>\u001b[0m \u001b[39mimport\u001b[39;00m \u001b[39mnumpy\u001b[39;00m \u001b[39mas\u001b[39;00m \u001b[39mnp\u001b[39;00m\n\u001b[0;32m      <a href='vscode-notebook-cell:/d%3A/My-Code-Footprint/Python%20codes/Python%20for%20beginers/1.Jupyter%20Notebook/ship-manual2.ipynb#ch0000003?line=1'>2</a>\u001b[0m \u001b[39mimport\u001b[39;00m \u001b[39mmatplotlib\u001b[39;00m\u001b[39m.\u001b[39;00m\u001b[39mpyplot\u001b[39;00m \u001b[39mas\u001b[39;00m \u001b[39mplt\u001b[39;00m\n\u001b[0;32m      <a href='vscode-notebook-cell:/d%3A/My-Code-Footprint/Python%20codes/Python%20for%20beginers/1.Jupyter%20Notebook/ship-manual2.ipynb#ch0000003?line=2'>3</a>\u001b[0m data \u001b[39m=\u001b[39m np\u001b[39m.\u001b[39mrandom\u001b[39m.\u001b[39mdefault_rng(\u001b[39m12345\u001b[39m)\n",
      "\u001b[1;31mModuleNotFoundError\u001b[0m: No module named 'numpy'"
     ]
    }
   ],
   "source": [
    "import numpy as np\n",
    "import matplotlib.pyplot as plt\n",
    "data = np.random.default_rng(12345)\n",
    "oxy_nums = data.integers(low=0, high=10, size=10)\n",
    "\n",
    "plt.bar(range(len(oxy_nums)), oxy_nums)\n",
    "plt.show()\n"
   ]
  },
  {
   "cell_type": "markdown",
   "metadata": {},
   "source": [
    "## Ship's velocity\n",
    "\n",
    "Show the seconds needed to get from 0 to 60 meters per second, given the ship's acceleration in meters per second."
   ]
  },
  {
   "cell_type": "code",
   "execution_count": null,
   "metadata": {},
   "outputs": [
    {
     "name": "stdout",
     "output_type": "stream",
     "text": [
      "Time to reach desired velocity =  6.122448979591836\n"
     ]
    }
   ],
   "source": [
    "endVelocity = 60\n",
    "startVelocity = 0\n",
    "acceleration = 9.8\n",
    "\n",
    "time = (endVelocity - startVelocity) / acceleration\n",
    "print(\"Time to reach desired velocity = \", time)"
   ]
  }
 ],
 "metadata": {
  "kernelspec": {
   "display_name": "Python 3.10.5 64-bit",
   "language": "python",
   "name": "python3"
  },
  "language_info": {
   "codemirror_mode": {
    "name": "ipython",
    "version": 3
   },
   "file_extension": ".py",
   "mimetype": "text/x-python",
   "name": "python",
   "nbconvert_exporter": "python",
   "pygments_lexer": "ipython3",
   "version": "3.10.5"
  },
  "orig_nbformat": 4,
  "vscode": {
   "interpreter": {
    "hash": "ba0ca65d7a538add83541ac4ea5b313fa01f502a19a71cc792ebdbfd4f9944d1"
   }
  }
 },
 "nbformat": 4,
 "nbformat_minor": 2
}
