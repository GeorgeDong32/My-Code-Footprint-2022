{
 "cells": [
  {
   "cell_type": "markdown",
   "metadata": {},
   "source": [
    "# Exercise: Transform strings\n",
    "\n",
    "There are several operations you can perform on strings when you manipulate them. In this exercise, you'll use string methods to modify text with facts about the Moon and then extract information to create a short summary.\n",
    "\n",
    "This exercise is broken into a series of steps. For each step you will be presented with the goal for the step, followed by an empty cell. Enter your Python into the cell and run it. The solution for each step will follow each cell.\n",
    "\n",
    "## Parsing interesting facts about the moon\n",
    "\n",
    "Start by storing the following paragraph in a variable named `text`:\n",
    "\n",
    "```\n",
    "Interesting facts about the Moon. The Moon is Earth's only satellite. There are several interesting facts about the Moon and how it affects life here on Earth. \n",
    "On average, the Moon moves 4cm away from the Earth every year. This yearly drift is not significant enough to cause immediate effects on Earth. The highest daylight temperature of the Moon is 127 C.\n",
    "```"
   ]
  },
  {
   "cell_type": "code",
   "execution_count": null,
   "metadata": {},
   "outputs": [],
   "source": [
    "# My code\n",
    "test = '''Interesting facts about the Moon. The Moon is Earth's only satellite. There are several interesting facts about the Moon and how it affects life here on Earth. On average, the Moon moves 4cm away from the Earth every year. This yearly drift is not significant enough to cause immediate effects on Earth. The highest daylight temperature of the Moon is 127 C.'''"
   ]
  },
  {
   "cell_type": "markdown",
   "metadata": {},
   "source": [
    "Your code should resemble the following:\n",
    "\n",
    "```python\n",
    "text = \"\"\"Interesting facts about the Moon. The Moon is Earth's only satellite. There are several interesting facts about the Moon and how it affects life here on Earth. On average, the Moon moves 4cm away from the Earth every year. This yearly drift is not significant enough to cause immediate effects on Earth. The highest daylight temperature of the Moon is 127 C.\"\"\"\n",
    "```"
   ]
  },
  {
   "cell_type": "markdown",
   "metadata": {},
   "source": [
    "## Separate the paragraph into sentences\n",
    "\n",
    "In English each sentence ends with a period. You will use this to break the paragraph into difference sentences. Using the `split` method to split the text into sentences by looking for the string `. ` (a period followed by a space). Store the result in a variable named `sentences`. Print the result."
   ]
  },
  {
   "cell_type": "code",
   "execution_count": null,
   "metadata": {},
   "outputs": [],
   "source": [
    "# My code\n"
   ]
  },
  {
   "cell_type": "markdown",
   "metadata": {},
   "source": [
    "Your code should resemble the following:\n",
    "\n",
    "```python\n",
    "sentences = text.split('. ')\n",
    "print(sentences)\n",
    "```\n",
    "\n",
    "### Desired output\n",
    "\n",
    "When you run the cell you should see the following result:\n",
    "\n",
    "```\n",
    "['Interesting facts about the Moon', \"The Moon is Earth's only satellite\", 'There are several interesting facts about the Moon and how it affects life here on Earth', '\\nOn average, the Moon moves 4cm away from the Earth every year', 'This yearly drift is not significant enough to cause immediate effects on Earth', 'The highest daylight temperature of the Moon is 127 C.']\n",
    "```"
   ]
  },
  {
   "cell_type": "markdown",
   "metadata": {},
   "source": [
    "## Find keywords\n",
    "\n",
    "You will finish your program by adding the code to find any sentences which mention temperature. Add code to loop through the `sentences` variable. For each sentence, search for the word `temperature`. If the word is found, print the sentence."
   ]
  },
  {
   "cell_type": "code",
   "execution_count": null,
   "metadata": {},
   "outputs": [],
   "source": [
    "# My code"
   ]
  },
  {
   "cell_type": "markdown",
   "metadata": {},
   "source": [
    "Your code should resemble the following:\n",
    "\n",
    "```python\n",
    "for sentence in sentences:\n",
    "    if 'temperature' in sentence:\n",
    "        print(sentence)\n",
    "```\n",
    "\n",
    "## Desired output\n",
    "\n",
    "When run, the output should look like the following:\n",
    "\n",
    "```\n",
    "The highest daylight temperature of the Moon is 127 C.\n",
    "```"
   ]
  }
 ],
 "metadata": {
  "kernelspec": {
   "display_name": "Python 3.9.10 64-bit",
   "language": "python",
   "name": "python3"
  },
  "language_info": {
   "name": "python",
   "version": "3.9.10"
  },
  "orig_nbformat": 4,
  "vscode": {
   "interpreter": {
    "hash": "aeab2a77c2df088fcaec8359c4869ea7236b9d1841edb46522577357b3551a12"
   }
  }
 },
 "nbformat": 4,
 "nbformat_minor": 2
}
