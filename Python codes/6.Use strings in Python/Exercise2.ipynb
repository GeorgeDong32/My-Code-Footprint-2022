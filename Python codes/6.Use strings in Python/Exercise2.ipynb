{
 "cells": [
  {
   "cell_type": "markdown",
   "metadata": {},
   "source": [
    "# Exercise: Formatting strings\n",
    "\n",
    "Knowing how to format strings is essential when you're presenting information from a program. There are a few different ways to accomplish this in Python. In this exercise, you use variables that hold key facts about gravity on various moons and then use them to format and print the information.\n",
    "\n",
    "This exercise is broken into a series of steps. For each step you will be presented with the goal for the step, followed by an empty cell. Enter your Python into the cell and run it. The solution for each step will follow each cell.\n",
    "\n",
    "## Create the variables\n",
    "\n",
    "Start by creating three variables, `name`, `gravity`, and `planet`, and set them to the following values:\n",
    "\n",
    "```\n",
    "name: Ganymede\n",
    "planet: Mars\n",
    "gravity: 1.43\n",
    "```"
   ]
  },
  {
   "cell_type": "code",
   "execution_count": null,
   "metadata": {},
   "outputs": [],
   "source": [
    "# My code\n",
    "name = \"Ganymede\"\n",
    "planet = \"Mars\"\n",
    "gravity = \"1.43\""
   ]
  },
  {
   "cell_type": "markdown",
   "metadata": {},
   "source": [
    "Your code should look like the following:\n",
    "\n",
    "```python\n",
    "name = 'Ganymede'\n",
    "planet = 'Mars'\n",
    "gravity = '1.43'\n",
    "```"
   ]
  },
  {
   "cell_type": "markdown",
   "metadata": {},
   "source": [
    "## Create the template\n",
    "\n",
    "Now you will create the template to display the information about the moon. You want the output to look like the following:\n",
    "\n",
    "```\n",
    "Gravity Facts about {name}\n",
    "--------------------------\n",
    "Planet Name: {planet}\n",
    "Gravity on {name}: {gravity} m/s2\n",
    "```\n",
    "\n",
    "Create a variable named `template`, and set it to the template you create."
   ]
  },
  {
   "cell_type": "code",
   "execution_count": null,
   "metadata": {},
   "outputs": [],
   "source": [
    "# My code\n",
    "template = f\"Gravity Facts about {name}\\n--------------------------\\nPlanet Name: {planet}\\nGravity on {name}: {gravity} m/s2\"\n"
   ]
  },
  {
   "cell_type": "markdown",
   "metadata": {},
   "source": [
    "Your code should look like the following:\n",
    "\n",
    "```python\n",
    "template = \"\"\"Gravity Facts about {name}\n",
    "----------------------------------------\n",
    "Planet Name: {planet}\n",
    "Gravity on {name}: {gravity} m/s2\"\"\"\n",
    "```"
   ]
  },
  {
   "cell_type": "markdown",
   "metadata": {},
   "source": [
    "## Use the template\n",
    "\n",
    "With the template created, it's time to use it to display information about the moon! Use the `format` function on `template` to use the template and `print` the information. Set `name`, `planet`, and `gravity` to the appropriate values."
   ]
  },
  {
   "cell_type": "code",
   "execution_count": null,
   "metadata": {},
   "outputs": [],
   "source": [
    "# My code\n",
    "print(template)"
   ]
  },
  {
   "cell_type": "markdown",
   "metadata": {},
   "source": [
    "Your code should look like the following:\n",
    "\n",
    "```python\n",
    "print(template.format(name=name, planet=planet, gravity=gravity))\n",
    "```\n",
    "\n",
    "## Desired output\n",
    "\n",
    "When run, the result should look like the following:\n",
    "\n",
    "```\n",
    "Gravity Facts about Ganymede\n",
    "--------------------------\n",
    "Planet Name: Mars\n",
    "Gravity on Ganymede: 1.43 m/s2\n",
    "```"
   ]
  }
 ],
 "metadata": {
  "kernelspec": {
   "display_name": "Python 3.9.10 64-bit",
   "language": "python",
   "name": "python3"
  },
  "language_info": {
   "name": "python",
   "version": "3.9.10"
  },
  "orig_nbformat": 4,
  "vscode": {
   "interpreter": {
    "hash": "aeab2a77c2df088fcaec8359c4869ea7236b9d1841edb46522577357b3551a12"
   }
  }
 },
 "nbformat": 4,
 "nbformat_minor": 2
}
