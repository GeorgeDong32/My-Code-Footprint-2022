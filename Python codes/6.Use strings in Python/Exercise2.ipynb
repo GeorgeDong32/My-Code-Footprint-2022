{
 "cells": [
  {
   "cell_type": "markdown",
   "metadata": {},
   "source": [
    "# Exercise: Formatting strings\n",
    "\n",
    "Knowing how to format strings is essential when you're presenting information from a program. There are a few different ways to accomplish this in Python. In this exercise, you use variables that hold key facts about gravity on various moons and then use them to format and print the information.\n",
    "\n",
    "This exercise is broken into a series of steps. For each step you will be presented with the goal for the step, followed by an empty cell. Enter your Python into the cell and run it. The solution for each step will follow each cell.\n",
    "\n",
    "## Create the variables\n",
    "\n",
    "Start by creating three variables, `name`, `gravity`, and `planet`, and set them to the following values:\n",
    "\n",
    "```\n",
    "name: Ganymede\n",
    "planet: Mars\n",
    "gravity: 1.43\n",
    "```"
   ]
  }
 ],
 "metadata": {
  "language_info": {
   "name": "python"
  },
  "orig_nbformat": 4
 },
 "nbformat": 4,
 "nbformat_minor": 2
}
