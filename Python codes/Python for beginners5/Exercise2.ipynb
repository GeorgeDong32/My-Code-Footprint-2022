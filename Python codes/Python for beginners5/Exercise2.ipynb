{
 "cells": [
  {
   "cell_type": "markdown",
   "metadata": {},
   "source": [
    "# Exercise: Use complex logic to determine possible evasive maneuvers\n",
    "\n",
    "In the previous exercise you created code to test the size of the object. Now you will test both the object's size and proximity. You will use the same threshold for size of 5m<sup>3</sup>. If the object is both larger than the threshold and within 1000km of the ship evasive maneuvers will be required.\n",
    "\n",
    "For this step you will be presented with the goal for the exercise, followed by an empty cell. Enter your Python into the cell and run it. The solution is at the bottom of the exercise.\n",
    "\n",
    "Add the code to the cell below to create two variables: `object_size` and `proximity`. Set `object_size` to 10 to represent 10m<sup>3</sup>. Set `proximity` to 9000.\n",
    "\n",
    "Then add the code to display a message saying **Evasive maneuvers required** if both `object_size` is greater than 5 **and** `proximity` is less than 1000. Otherwise display a message saying **Object poses no threat.**"
   ]
  },
  {
   "cell_type": "code",
   "execution_count": 1,
   "metadata": {},
   "outputs": [
    {
     "name": "stdout",
     "output_type": "stream",
     "text": [
      "Object poses no threat\n"
     ]
    }
   ],
   "source": [
    "# my code\n",
    "object_size = 10\n",
    "proximity = 9000\n",
    "\n",
    "if object_size > 5 and proximity < 1000:\n",
    "    print('Evasive maneuvers required')\n",
    "else:\n",
    "    print('Object poses no threat')"
   ]
  },
  {
   "cell_type": "markdown",
   "metadata": {},
   "source": [
    "Your code should look something like this:\n",
    "\n",
    "```python\n",
    "object_size = 10\n",
    "proximity = 9000\n",
    "\n",
    "if object_size > 5 and proximity < 1000:\n",
    "    print('Evasive maneuvers required')\n",
    "else:\n",
    "    print('Object poses no threat')\n",
    "```\n",
    "\n",
    "## Desired output\n",
    "\n",
    "When you run the notebook, you should see the following result displayed:\n",
    "\n",
    "```\n",
    "Object poses no threat\n",
    "```"
   ]
  }
 ],
 "metadata": {
  "kernelspec": {
   "display_name": "Python 3.9.10 64-bit",
   "language": "python",
   "name": "python3"
  },
  "language_info": {
   "codemirror_mode": {
    "name": "ipython",
    "version": 3
   },
   "file_extension": ".py",
   "mimetype": "text/x-python",
   "name": "python",
   "nbconvert_exporter": "python",
   "pygments_lexer": "ipython3",
   "version": "3.9.10"
  },
  "orig_nbformat": 4,
  "vscode": {
   "interpreter": {
    "hash": "aeab2a77c2df088fcaec8359c4869ea7236b9d1841edb46522577357b3551a12"
   }
  }
 },
 "nbformat": 4,
 "nbformat_minor": 2
}
