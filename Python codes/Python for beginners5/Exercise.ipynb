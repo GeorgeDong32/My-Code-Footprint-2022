{
 "cells": [
  {
   "cell_type": "markdown",
   "metadata": {},
   "source": [
    "# Exercise: Use logic to examine an object's size\n",
    "\n",
    "You will start your project by creating the code to determine if a piece of space debris is of a dangerous size. For this exercise we will use an arbitrary size of 5 meters cubed (5m<sup>3</sup>); anything larger is a potentially dangerous object.\n",
    "\n",
    "For this step you will be presented with the goal for the exercise, followed by an empty cell. Enter your Python into the cell and run it. The solution is at the bottom of the exercise.\n",
    "\n",
    "In the cell below, add a variable named `object_size` and set it to 10 to represent 10m<sup>3</sup>. Then add an `if` statement to test if `object_size` is greater than 5. If it is, display a message saying **We need to keep an eye on this object.** If it's less than 5, display a message saying **Object poses no threat.**"
   ]
  },
  {
   "cell_type": "code",
   "execution_count": null,
   "metadata": {},
   "outputs": [],
   "source": [
    "# Enter code below\n"
   ]
  },
  {
   "cell_type": "markdown",
   "metadata": {},
   "source": [
    "Your code could look like the following:\n",
    "\n",
    "```python\n",
    "object_size = 10\n",
    "if object_size > 5:\n",
    "    print('We need to keep an eye on this object')\n",
    "else:\n",
    "    print('Object poses no threat.')\n",
    "```\n",
    "\n",
    "## Desired output\n",
    "\n",
    "When you run the notebook you should see the following result:\n",
    "\n",
    "```python\n",
    "We need to keep an eye on this object\n",
    "```"
   ]
  }
 ],
 "metadata": {
  "kernelspec": {
   "display_name": "Python 3.10.5 64-bit (windows store)",
   "language": "python",
   "name": "python3"
  },
  "language_info": {
   "name": "python",
   "version": "3.10.5"
  },
  "orig_nbformat": 4,
  "vscode": {
   "interpreter": {
    "hash": "f2284c2851b134ecb1c36acfff62ce4674de5ae5729c989ed729cef00e4345aa"
   }
  }
 },
 "nbformat": 4,
 "nbformat_minor": 2
}
