{
 "cells": [
  {
   "cell_type": "markdown",
   "metadata": {},
   "source": [
    "# Exercise: Use logic to examine an object's size\n",
    "\n",
    "You will start your project by creating the code to determine if a piece of space debris is of a dangerous size. For this exercise we will use an arbitrary size of 5 meters cubed (5m<sup>3</sup>); anything larger is a potentially dangerous object.\n",
    "\n",
    "For this step you will be presented with the goal for the exercise, followed by an empty cell. Enter your Python into the cell and run it. The solution is at the bottom of the exercise.\n",
    "\n",
    "In the cell below, add a variable named `object_size` and set it to 10 to represent 10m<sup>3</sup>. Then add an `if` statement to test if `object_size` is greater than 5. If it is, display a message saying **We need to keep an eye on this object.** If it's less than 5, display a message saying **Object poses no threat.**"
   ]
  },
  {
   "cell_type": "code",
   "execution_count": 2,
   "metadata": {},
   "outputs": [
    {
     "name": "stdout",
     "output_type": "stream",
     "text": [
      "We need to keep an eye on this object\n"
     ]
    }
   ],
   "source": [
    "# Enter code below\n",
    "object_size = 10\n",
    "if object_size > 5:\n",
    "    print('We need to keep an eye on this object')\n",
    "else:\n",
    "    print('Object poses no threat.')"
   ]
  },
  {
   "cell_type": "markdown",
   "metadata": {},
   "source": [
    "Your code could look like the following:\n",
    "\n",
    "```python\n",
    "object_size = 10\n",
    "if object_size > 5:\n",
    "    print('We need to keep an eye on this object')\n",
    "else:\n",
    "    print('Object poses no threat.')\n",
    "```\n",
    "\n",
    "## Desired output\n",
    "\n",
    "When you run the notebook you should see the following result:\n",
    "\n",
    "```python\n",
    "We need to keep an eye on this object\n",
    "```"
   ]
  }
 ],
 "metadata": {
  "kernelspec": {
   "display_name": "Python 3.9.10 64-bit",
   "language": "python",
   "name": "python3"
  },
  "language_info": {
   "codemirror_mode": {
    "name": "ipython",
    "version": 3
   },
   "file_extension": ".py",
   "mimetype": "text/x-python",
   "name": "python",
   "nbconvert_exporter": "python",
   "pygments_lexer": "ipython3",
   "version": "3.9.10"
  },
  "orig_nbformat": 4,
  "vscode": {
   "interpreter": {
    "hash": "aeab2a77c2df088fcaec8359c4869ea7236b9d1841edb46522577357b3551a12"
   }
  }
 },
 "nbformat": 4,
 "nbformat_minor": 2
}
