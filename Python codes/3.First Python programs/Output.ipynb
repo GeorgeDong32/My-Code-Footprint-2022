{
 "cells": [
  {
   "cell_type": "markdown",
   "metadata": {},
   "source": [
    "# Your first program\n",
    "\n",
    "You will use a Jupyter notebook to create your first program. Your senior officer wants you to create code to perform a couple of utilities. You will start by displaying today's date. Then you will add code to convert parsecs to lightyears.\n",
    "\n",
    "This exercise is broken into a series of steps. For each step you will be presented with the goal for the step, followed by an empty cell. Enter your Python into the cell and run it. The solution for each step will follow each cell."
   ]
  },
  {
   "cell_type": "markdown",
   "metadata": {},
   "source": [
    "## Display today's date\n",
    "\n",
    "In the cell below, add the code to display today's date. Remember you can use the `date` object from the `datetime` library to access calendar information."
   ]
  },
  {
   "cell_type": "code",
   "execution_count": null,
   "metadata": {},
   "outputs": [
    {
     "ename": "",
     "evalue": "",
     "output_type": "error",
     "traceback": [
      "\u001b[1;31mFailed to start the Kernel. \n",
      "C:\\Users\\GeorgeDong\\AppData\\Local\\Packages\\PythonSoftwareFoundation.Python.3.10_qbz5n2kfra8p0\\LocalCache\\local-packages\\Python310\\site-packages\\traitlets\\traitlets.py:2392: FutureWarning: Supporting extra quotes around strings is deprecated in traitlets 5.0. You can use 'hmac-sha256' instead of '\"hmac-sha256\"' if you require traitlets >=5.\r\n",
      "  warn(\r\n",
      "C:\\Users\\GeorgeDong\\AppData\\Local\\Packages\\PythonSoftwareFoundation.Python.3.10_qbz5n2kfra8p0\\LocalCache\\local-packages\\Python310\\site-packages\\traitlets\\traitlets.py:2346: FutureWarning: Supporting extra quotes around Bytes is deprecated in traitlets 5.0. Use '22e029fc-7ec7-4920-9bca-5431623d650d' instead of 'b\"22e029fc-7ec7-4920-9bca-5431623d650d\"'.\r\n",
      "  warn(\r\n",
      "Bad file descriptor (C:\\projects\\libzmq\\src\\epoll.cpp:100). \n",
      "View Jupyter <a href='command:jupyter.viewOutput'>log</a> for further details."
     ]
    }
   ],
   "source": [
    "# Add the code below\n",
    "from datetime import date\n",
    "print(date.today())"
   ]
  },
  {
   "cell_type": "markdown",
   "metadata": {},
   "source": [
    "\n",
    "## Build a unit converter\n",
    "\n",
    "Now it's time to turn your attention to the second utility, converting parsecs to lightyears. One parsec is 3.26 lightyears, so you will multiply parsecs by that value to determine lightyears.\n",
    "\n",
    "Create a variable named `parsecs` and set it to `11`. Then add the code to perform the appropriate calculation and store the result in a variable named `lightyears`. Finally print the result on the screen with so it displays a message which resembles the following:\n",
    "\n",
    "**11 parsecs is ___ lightyears**\n",
    "\n",
    "> Remember to you can use `str` to convert numbers to strings"
   ]
  },
  {
   "cell_type": "code",
   "execution_count": null,
   "metadata": {},
   "outputs": [
    {
     "ename": "",
     "evalue": "",
     "output_type": "error",
     "traceback": [
      "\u001b[1;31mFailed to start the Kernel. \n",
      "C:\\Users\\GeorgeDong\\AppData\\Local\\Packages\\PythonSoftwareFoundation.Python.3.10_qbz5n2kfra8p0\\LocalCache\\local-packages\\Python310\\site-packages\\traitlets\\traitlets.py:2392: FutureWarning: Supporting extra quotes around strings is deprecated in traitlets 5.0. You can use 'hmac-sha256' instead of '\"hmac-sha256\"' if you require traitlets >=5.\r\n",
      "  warn(\r\n",
      "C:\\Users\\GeorgeDong\\AppData\\Local\\Packages\\PythonSoftwareFoundation.Python.3.10_qbz5n2kfra8p0\\LocalCache\\local-packages\\Python310\\site-packages\\traitlets\\traitlets.py:2346: FutureWarning: Supporting extra quotes around Bytes is deprecated in traitlets 5.0. Use '22e029fc-7ec7-4920-9bca-5431623d650d' instead of 'b\"22e029fc-7ec7-4920-9bca-5431623d650d\"'.\r\n",
      "  warn(\r\n",
      "Bad file descriptor (C:\\projects\\libzmq\\src\\epoll.cpp:100). \n",
      "View Jupyter <a href='command:jupyter.viewOutput'>log</a> for further details."
     ]
    }
   ],
   "source": [
    "# Enter code below\n",
    "parsecs = 11\n",
    "lightyears = parsecs * 3.26\n",
    "print(str(parsecs)+\" parsecs is \" + str(lightyears) + \" lightyears\")"
   ]
  },
  {
   "cell_type": "markdown",
   "metadata": {},
   "source": [
    "## Desired output\n",
    "\n",
    "When you run the notebook you should see the following result:\n",
    "\n",
    "```\n",
    "11 parsecs is 35.86 lightyears\n",
    "```"
   ]
  }
 ],
 "metadata": {
  "kernelspec": {
   "display_name": "Python 3.10.5 64-bit (windows store)",
   "language": "python",
   "name": "python3"
  },
  "language_info": {
   "codemirror_mode": {
    "name": "ipython",
    "version": 3
   },
   "file_extension": ".py",
   "mimetype": "text/x-python",
   "name": "python",
   "nbconvert_exporter": "python",
   "pygments_lexer": "ipython3",
   "version": "3.10.5"
  },
  "orig_nbformat": 4,
  "vscode": {
   "interpreter": {
    "hash": "f2284c2851b134ecb1c36acfff62ce4674de5ae5729c989ed729cef00e4345aa"
   }
  }
 },
 "nbformat": 4,
 "nbformat_minor": 2
}
